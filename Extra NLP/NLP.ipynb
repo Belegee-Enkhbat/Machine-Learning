{
 "cells": [
  {
   "cell_type": "code",
   "execution_count": 1,
   "id": "e19585db",
   "metadata": {},
   "outputs": [
    {
     "name": "stdout",
     "output_type": "stream",
     "text": [
      "Collecting setfit\n",
      "  Obtaining dependency information for setfit from https://files.pythonhosted.org/packages/9c/f4/24958ec08ccc83387f432df43c738b06c7219b199667fc3e596b3cb3efe4/setfit-1.0.3-py3-none-any.whl.metadata\n",
      "  Downloading setfit-1.0.3-py3-none-any.whl.metadata (11 kB)\n",
      "Requirement already satisfied: datasets>=2.3.0 in /Users/belgee/anaconda3/lib/python3.11/site-packages (from setfit) (2.12.0)\n",
      "Collecting sentence-transformers>=2.2.1 (from setfit)\n",
      "  Obtaining dependency information for sentence-transformers>=2.2.1 from https://files.pythonhosted.org/packages/68/0d/27475988a3daade7516ea02dbc607b57d4a30f01bb49614a6430e76685c2/sentence_transformers-2.5.1-py3-none-any.whl.metadata\n",
      "  Downloading sentence_transformers-2.5.1-py3-none-any.whl.metadata (11 kB)\n",
      "Collecting evaluate>=0.3.0 (from setfit)\n",
      "  Obtaining dependency information for evaluate>=0.3.0 from https://files.pythonhosted.org/packages/70/63/7644a1eb7b0297e585a6adec98ed9e575309bb973c33b394dae66bc35c69/evaluate-0.4.1-py3-none-any.whl.metadata\n",
      "  Downloading evaluate-0.4.1-py3-none-any.whl.metadata (9.4 kB)\n",
      "Requirement already satisfied: huggingface-hub>=0.13.0 in /Users/belgee/anaconda3/lib/python3.11/site-packages (from setfit) (0.15.1)\n",
      "Requirement already satisfied: scikit-learn in /Users/belgee/anaconda3/lib/python3.11/site-packages (from setfit) (1.3.0)\n",
      "Requirement already satisfied: packaging in /Users/belgee/anaconda3/lib/python3.11/site-packages (from setfit) (23.1)\n",
      "Requirement already satisfied: numpy>=1.17 in /Users/belgee/anaconda3/lib/python3.11/site-packages (from datasets>=2.3.0->setfit) (1.24.3)\n",
      "Requirement already satisfied: pyarrow>=8.0.0 in /Users/belgee/anaconda3/lib/python3.11/site-packages (from datasets>=2.3.0->setfit) (11.0.0)\n",
      "Collecting dill<0.3.7,>=0.3.0 (from datasets>=2.3.0->setfit)\n",
      "  Obtaining dependency information for dill<0.3.7,>=0.3.0 from https://files.pythonhosted.org/packages/be/e3/a84bf2e561beed15813080d693b4b27573262433fced9c1d1fea59e60553/dill-0.3.6-py3-none-any.whl.metadata\n",
      "  Downloading dill-0.3.6-py3-none-any.whl.metadata (9.8 kB)\n",
      "Requirement already satisfied: pandas in /Users/belgee/anaconda3/lib/python3.11/site-packages (from datasets>=2.3.0->setfit) (2.0.3)\n",
      "Requirement already satisfied: requests>=2.19.0 in /Users/belgee/anaconda3/lib/python3.11/site-packages (from datasets>=2.3.0->setfit) (2.31.0)\n",
      "Requirement already satisfied: tqdm>=4.62.1 in /Users/belgee/anaconda3/lib/python3.11/site-packages (from datasets>=2.3.0->setfit) (4.65.0)\n",
      "Requirement already satisfied: xxhash in /Users/belgee/anaconda3/lib/python3.11/site-packages (from datasets>=2.3.0->setfit) (2.0.2)\n",
      "Requirement already satisfied: multiprocess in /Users/belgee/anaconda3/lib/python3.11/site-packages (from datasets>=2.3.0->setfit) (0.70.14)\n",
      "Requirement already satisfied: fsspec[http]>=2021.11.1 in /Users/belgee/anaconda3/lib/python3.11/site-packages (from datasets>=2.3.0->setfit) (2023.4.0)\n",
      "Requirement already satisfied: aiohttp in /Users/belgee/anaconda3/lib/python3.11/site-packages (from datasets>=2.3.0->setfit) (3.8.5)\n",
      "Requirement already satisfied: responses<0.19 in /Users/belgee/anaconda3/lib/python3.11/site-packages (from datasets>=2.3.0->setfit) (0.13.3)\n",
      "Requirement already satisfied: pyyaml>=5.1 in /Users/belgee/anaconda3/lib/python3.11/site-packages (from datasets>=2.3.0->setfit) (6.0)\n",
      "Requirement already satisfied: filelock in /Users/belgee/anaconda3/lib/python3.11/site-packages (from huggingface-hub>=0.13.0->setfit) (3.9.0)\n",
      "Requirement already satisfied: typing-extensions>=3.7.4.3 in /Users/belgee/anaconda3/lib/python3.11/site-packages (from huggingface-hub>=0.13.0->setfit) (4.9.0)\n",
      "Requirement already satisfied: transformers<5.0.0,>=4.32.0 in /Users/belgee/anaconda3/lib/python3.11/site-packages (from sentence-transformers>=2.2.1->setfit) (4.32.1)\n",
      "Requirement already satisfied: torch>=1.11.0 in /Users/belgee/anaconda3/lib/python3.11/site-packages (from sentence-transformers>=2.2.1->setfit) (2.2.0)\n",
      "Requirement already satisfied: scipy in /Users/belgee/anaconda3/lib/python3.11/site-packages (from sentence-transformers>=2.2.1->setfit) (1.11.1)\n",
      "Requirement already satisfied: Pillow in /Users/belgee/anaconda3/lib/python3.11/site-packages (from sentence-transformers>=2.2.1->setfit) (9.4.0)\n",
      "Requirement already satisfied: joblib>=1.1.1 in /Users/belgee/anaconda3/lib/python3.11/site-packages (from scikit-learn->setfit) (1.2.0)\n",
      "Requirement already satisfied: threadpoolctl>=2.0.0 in /Users/belgee/anaconda3/lib/python3.11/site-packages (from scikit-learn->setfit) (2.2.0)\n",
      "Requirement already satisfied: attrs>=17.3.0 in /Users/belgee/anaconda3/lib/python3.11/site-packages (from aiohttp->datasets>=2.3.0->setfit) (22.1.0)\n",
      "Requirement already satisfied: charset-normalizer<4.0,>=2.0 in /Users/belgee/anaconda3/lib/python3.11/site-packages (from aiohttp->datasets>=2.3.0->setfit) (2.0.4)\n",
      "Requirement already satisfied: multidict<7.0,>=4.5 in /Users/belgee/anaconda3/lib/python3.11/site-packages (from aiohttp->datasets>=2.3.0->setfit) (6.0.2)\n",
      "Requirement already satisfied: async-timeout<5.0,>=4.0.0a3 in /Users/belgee/anaconda3/lib/python3.11/site-packages (from aiohttp->datasets>=2.3.0->setfit) (4.0.2)\n",
      "Requirement already satisfied: yarl<2.0,>=1.0 in /Users/belgee/anaconda3/lib/python3.11/site-packages (from aiohttp->datasets>=2.3.0->setfit) (1.8.1)\n",
      "Requirement already satisfied: frozenlist>=1.1.1 in /Users/belgee/anaconda3/lib/python3.11/site-packages (from aiohttp->datasets>=2.3.0->setfit) (1.3.3)\n",
      "Requirement already satisfied: aiosignal>=1.1.2 in /Users/belgee/anaconda3/lib/python3.11/site-packages (from aiohttp->datasets>=2.3.0->setfit) (1.2.0)\n",
      "Requirement already satisfied: idna<4,>=2.5 in /Users/belgee/anaconda3/lib/python3.11/site-packages (from requests>=2.19.0->datasets>=2.3.0->setfit) (2.8)\n",
      "Requirement already satisfied: urllib3<3,>=1.21.1 in /Users/belgee/anaconda3/lib/python3.11/site-packages (from requests>=2.19.0->datasets>=2.3.0->setfit) (1.25.11)\n",
      "Requirement already satisfied: certifi>=2017.4.17 in /Users/belgee/anaconda3/lib/python3.11/site-packages (from requests>=2.19.0->datasets>=2.3.0->setfit) (2023.7.22)\n",
      "Requirement already satisfied: six in /Users/belgee/anaconda3/lib/python3.11/site-packages (from responses<0.19->datasets>=2.3.0->setfit) (1.16.0)\n",
      "Requirement already satisfied: sympy in /Users/belgee/anaconda3/lib/python3.11/site-packages (from torch>=1.11.0->sentence-transformers>=2.2.1->setfit) (1.11.1)\n",
      "Requirement already satisfied: networkx in /Users/belgee/anaconda3/lib/python3.11/site-packages (from torch>=1.11.0->sentence-transformers>=2.2.1->setfit) (3.1)\n",
      "Requirement already satisfied: jinja2 in /Users/belgee/anaconda3/lib/python3.11/site-packages (from torch>=1.11.0->sentence-transformers>=2.2.1->setfit) (3.1.2)\n",
      "Requirement already satisfied: regex!=2019.12.17 in /Users/belgee/anaconda3/lib/python3.11/site-packages (from transformers<5.0.0,>=4.32.0->sentence-transformers>=2.2.1->setfit) (2022.7.9)\n",
      "Requirement already satisfied: tokenizers!=0.11.3,<0.14,>=0.11.1 in /Users/belgee/anaconda3/lib/python3.11/site-packages (from transformers<5.0.0,>=4.32.0->sentence-transformers>=2.2.1->setfit) (0.13.2)\n",
      "Requirement already satisfied: safetensors>=0.3.1 in /Users/belgee/anaconda3/lib/python3.11/site-packages (from transformers<5.0.0,>=4.32.0->sentence-transformers>=2.2.1->setfit) (0.3.2)\n",
      "Requirement already satisfied: python-dateutil>=2.8.2 in /Users/belgee/anaconda3/lib/python3.11/site-packages (from pandas->datasets>=2.3.0->setfit) (2.8.2)\n",
      "Requirement already satisfied: pytz>=2020.1 in /Users/belgee/anaconda3/lib/python3.11/site-packages (from pandas->datasets>=2.3.0->setfit) (2023.3.post1)\n",
      "Requirement already satisfied: tzdata>=2022.1 in /Users/belgee/anaconda3/lib/python3.11/site-packages (from pandas->datasets>=2.3.0->setfit) (2023.3)\n",
      "Requirement already satisfied: MarkupSafe>=2.0 in /Users/belgee/anaconda3/lib/python3.11/site-packages (from jinja2->torch>=1.11.0->sentence-transformers>=2.2.1->setfit) (2.1.1)\n",
      "Requirement already satisfied: mpmath>=0.19 in /Users/belgee/anaconda3/lib/python3.11/site-packages (from sympy->torch>=1.11.0->sentence-transformers>=2.2.1->setfit) (1.3.0)\n",
      "Downloading setfit-1.0.3-py3-none-any.whl (75 kB)\n"
     ]
    },
    {
     "name": "stdout",
     "output_type": "stream",
     "text": [
      "\u001b[2K   \u001b[90m━━━━━━━━━━━━━━━━━━━━━━━━━━━━━━━━━━━━━━━━\u001b[0m \u001b[32m75.9/75.9 kB\u001b[0m \u001b[31m8.5 kB/s\u001b[0m eta \u001b[36m0:00:00\u001b[0ma \u001b[36m0:00:03\u001b[0m\n",
      "\u001b[?25hDownloading evaluate-0.4.1-py3-none-any.whl (84 kB)\n",
      "\u001b[2K   \u001b[90m━━━━━━━━━━━━━━━━━━━━━━━━━━━━━━━━━━━━━━━━\u001b[0m \u001b[32m84.1/84.1 kB\u001b[0m \u001b[31m39.2 kB/s\u001b[0m eta \u001b[36m0:00:00\u001b[0ma \u001b[36m0:00:03\u001b[0m\n",
      "\u001b[?25hDownloading sentence_transformers-2.5.1-py3-none-any.whl (156 kB)\n",
      "\u001b[2K   \u001b[90m━━━━━━━━━━━━━━━━━━━━━━━━━━━━━━━━━━━━━━━━\u001b[0m \u001b[32m156.5/156.5 kB\u001b[0m \u001b[31m26.0 kB/s\u001b[0m eta \u001b[36m0:00:00\u001b[0ma \u001b[36m0:00:02\u001b[0m\n",
      "\u001b[?25hDownloading dill-0.3.6-py3-none-any.whl (110 kB)\n",
      "\u001b[2K   \u001b[90m━━━━━━━━━━━━━━━━━━━━━━━━━━━━━━━━━━━━━━━━\u001b[0m \u001b[32m110.5/110.5 kB\u001b[0m \u001b[31m54.3 kB/s\u001b[0m eta \u001b[36m0:00:00\u001b[0ma \u001b[36m0:00:01\u001b[0m\n",
      "\u001b[?25hInstalling collected packages: dill, sentence-transformers, evaluate, setfit\n",
      "  Attempting uninstall: dill\n",
      "    Found existing installation: dill 0.3.8\n",
      "    Uninstalling dill-0.3.8:\n",
      "      Successfully uninstalled dill-0.3.8\n",
      "\u001b[31mERROR: pip's dependency resolver does not currently take into account all the packages that are installed. This behaviour is the source of the following dependency conflicts.\n",
      "spyder 5.4.3 requires pyqt5<5.16, which is not installed.\n",
      "spyder 5.4.3 requires pyqtwebengine<5.16, which is not installed.\u001b[0m\u001b[31m\n",
      "\u001b[0mSuccessfully installed dill-0.3.6 evaluate-0.4.1 sentence-transformers-2.5.1 setfit-1.0.3\n",
      "Note: you may need to restart the kernel to use updated packages.\n"
     ]
    }
   ],
   "source": [
    "pip install setfit"
   ]
  },
  {
   "cell_type": "code",
   "execution_count": 2,
   "id": "38d40bb4",
   "metadata": {},
   "outputs": [
    {
     "name": "stdout",
     "output_type": "stream",
     "text": [
      "Looking in indexes: https://download.pytorch.org/whl/cu118\n",
      "Requirement already satisfied: torch in /Users/belgee/anaconda3/lib/python3.11/site-packages (2.2.0)\n",
      "Requirement already satisfied: filelock in /Users/belgee/anaconda3/lib/python3.11/site-packages (from torch) (3.9.0)\n",
      "Requirement already satisfied: typing-extensions>=4.8.0 in /Users/belgee/anaconda3/lib/python3.11/site-packages (from torch) (4.9.0)\n",
      "Requirement already satisfied: sympy in /Users/belgee/anaconda3/lib/python3.11/site-packages (from torch) (1.11.1)\n",
      "Requirement already satisfied: networkx in /Users/belgee/anaconda3/lib/python3.11/site-packages (from torch) (3.1)\n",
      "Requirement already satisfied: jinja2 in /Users/belgee/anaconda3/lib/python3.11/site-packages (from torch) (3.1.2)\n",
      "Requirement already satisfied: fsspec in /Users/belgee/anaconda3/lib/python3.11/site-packages (from torch) (2023.4.0)\n",
      "Requirement already satisfied: MarkupSafe>=2.0 in /Users/belgee/anaconda3/lib/python3.11/site-packages (from jinja2->torch) (2.1.1)\n",
      "Requirement already satisfied: mpmath>=0.19 in /Users/belgee/anaconda3/lib/python3.11/site-packages (from sympy->torch) (1.3.0)\n",
      "Note: you may need to restart the kernel to use updated packages.\n"
     ]
    }
   ],
   "source": [
    "pip install torch --index-url https://download.pytorch.org/whl/cu118"
   ]
  },
  {
   "cell_type": "code",
   "execution_count": 3,
   "id": "5dd10559",
   "metadata": {},
   "outputs": [
    {
     "ename": "ImportError",
     "evalue": "cannot import name 'is_nltk_available' from 'transformers.utils.import_utils' (/Users/belgee/anaconda3/lib/python3.11/site-packages/transformers/utils/import_utils.py)",
     "output_type": "error",
     "traceback": [
      "\u001b[0;31m---------------------------------------------------------------------------\u001b[0m",
      "\u001b[0;31mImportError\u001b[0m                               Traceback (most recent call last)",
      "Cell \u001b[0;32mIn[3], line 1\u001b[0m\n\u001b[0;32m----> 1\u001b[0m \u001b[38;5;28;01mfrom\u001b[39;00m \u001b[38;5;21;01msetfit\u001b[39;00m \u001b[38;5;28;01mimport\u001b[39;00m SetFitModel\n\u001b[1;32m      3\u001b[0m model \u001b[38;5;241m=\u001b[39m SetFitModel\u001b[38;5;241m.\u001b[39mfrom_pretrained(\u001b[38;5;124m\"\u001b[39m\u001b[38;5;124mBAAI/bge-small-en-v1.5\u001b[39m\u001b[38;5;124m\"\u001b[39m)\n",
      "File \u001b[0;32m~/anaconda3/lib/python3.11/site-packages/setfit/__init__.py:8\u001b[0m\n\u001b[1;32m      5\u001b[0m \u001b[38;5;28;01mimport\u001b[39;00m \u001b[38;5;21;01mwarnings\u001b[39;00m\n\u001b[1;32m      7\u001b[0m \u001b[38;5;28;01mfrom\u001b[39;00m \u001b[38;5;21;01m.\u001b[39;00m\u001b[38;5;21;01mdata\u001b[39;00m \u001b[38;5;28;01mimport\u001b[39;00m get_templated_dataset, sample_dataset\n\u001b[0;32m----> 8\u001b[0m \u001b[38;5;28;01mfrom\u001b[39;00m \u001b[38;5;21;01m.\u001b[39;00m\u001b[38;5;21;01mmodel_card\u001b[39;00m \u001b[38;5;28;01mimport\u001b[39;00m SetFitModelCardData\n\u001b[1;32m      9\u001b[0m \u001b[38;5;28;01mfrom\u001b[39;00m \u001b[38;5;21;01m.\u001b[39;00m\u001b[38;5;21;01mmodeling\u001b[39;00m \u001b[38;5;28;01mimport\u001b[39;00m SetFitHead, SetFitModel\n\u001b[1;32m     10\u001b[0m \u001b[38;5;28;01mfrom\u001b[39;00m \u001b[38;5;21;01m.\u001b[39;00m\u001b[38;5;21;01mspan\u001b[39;00m \u001b[38;5;28;01mimport\u001b[39;00m AbsaModel, AbsaTrainer, AspectExtractor, AspectModel, PolarityModel\n",
      "File \u001b[0;32m~/anaconda3/lib/python3.11/site-packages/setfit/model_card.py:17\u001b[0m\n\u001b[1;32m     15\u001b[0m \u001b[38;5;28;01mfrom\u001b[39;00m \u001b[38;5;21;01mhuggingface_hub\u001b[39;00m\u001b[38;5;21;01m.\u001b[39;00m\u001b[38;5;21;01mrepocard_data\u001b[39;00m \u001b[38;5;28;01mimport\u001b[39;00m EvalResult, eval_results_to_model_index\n\u001b[1;32m     16\u001b[0m \u001b[38;5;28;01mfrom\u001b[39;00m \u001b[38;5;21;01mhuggingface_hub\u001b[39;00m\u001b[38;5;21;01m.\u001b[39;00m\u001b[38;5;21;01mutils\u001b[39;00m \u001b[38;5;28;01mimport\u001b[39;00m yaml_dump\n\u001b[0;32m---> 17\u001b[0m \u001b[38;5;28;01mfrom\u001b[39;00m \u001b[38;5;21;01msentence_transformers\u001b[39;00m \u001b[38;5;28;01mimport\u001b[39;00m __version__ \u001b[38;5;28;01mas\u001b[39;00m sentence_transformers_version\n\u001b[1;32m     18\u001b[0m \u001b[38;5;28;01mfrom\u001b[39;00m \u001b[38;5;21;01mtransformers\u001b[39;00m \u001b[38;5;28;01mimport\u001b[39;00m PretrainedConfig, TrainerCallback\n\u001b[1;32m     19\u001b[0m \u001b[38;5;28;01mfrom\u001b[39;00m \u001b[38;5;21;01mtransformers\u001b[39;00m\u001b[38;5;21;01m.\u001b[39;00m\u001b[38;5;21;01mintegrations\u001b[39;00m \u001b[38;5;28;01mimport\u001b[39;00m CodeCarbonCallback\n",
      "File \u001b[0;32m~/anaconda3/lib/python3.11/site-packages/sentence_transformers/__init__.py:3\u001b[0m\n\u001b[1;32m      1\u001b[0m __version__ \u001b[38;5;241m=\u001b[39m \u001b[38;5;124m\"\u001b[39m\u001b[38;5;124m2.5.1\u001b[39m\u001b[38;5;124m\"\u001b[39m\n\u001b[1;32m      2\u001b[0m __MODEL_HUB_ORGANIZATION__ \u001b[38;5;241m=\u001b[39m \u001b[38;5;124m\"\u001b[39m\u001b[38;5;124msentence-transformers\u001b[39m\u001b[38;5;124m\"\u001b[39m\n\u001b[0;32m----> 3\u001b[0m \u001b[38;5;28;01mfrom\u001b[39;00m \u001b[38;5;21;01m.\u001b[39;00m\u001b[38;5;21;01mdatasets\u001b[39;00m \u001b[38;5;28;01mimport\u001b[39;00m SentencesDataset, ParallelSentencesDataset\n\u001b[1;32m      4\u001b[0m \u001b[38;5;28;01mfrom\u001b[39;00m \u001b[38;5;21;01m.\u001b[39;00m\u001b[38;5;21;01mLoggingHandler\u001b[39;00m \u001b[38;5;28;01mimport\u001b[39;00m LoggingHandler\n\u001b[1;32m      5\u001b[0m \u001b[38;5;28;01mfrom\u001b[39;00m \u001b[38;5;21;01m.\u001b[39;00m\u001b[38;5;21;01mSentenceTransformer\u001b[39;00m \u001b[38;5;28;01mimport\u001b[39;00m SentenceTransformer\n",
      "File \u001b[0;32m~/anaconda3/lib/python3.11/site-packages/sentence_transformers/datasets/__init__.py:1\u001b[0m\n\u001b[0;32m----> 1\u001b[0m \u001b[38;5;28;01mfrom\u001b[39;00m \u001b[38;5;21;01m.\u001b[39;00m\u001b[38;5;21;01mDenoisingAutoEncoderDataset\u001b[39;00m \u001b[38;5;28;01mimport\u001b[39;00m DenoisingAutoEncoderDataset\n\u001b[1;32m      2\u001b[0m \u001b[38;5;28;01mfrom\u001b[39;00m \u001b[38;5;21;01m.\u001b[39;00m\u001b[38;5;21;01mNoDuplicatesDataLoader\u001b[39;00m \u001b[38;5;28;01mimport\u001b[39;00m NoDuplicatesDataLoader\n\u001b[1;32m      3\u001b[0m \u001b[38;5;28;01mfrom\u001b[39;00m \u001b[38;5;21;01m.\u001b[39;00m\u001b[38;5;21;01mParallelSentencesDataset\u001b[39;00m \u001b[38;5;28;01mimport\u001b[39;00m ParallelSentencesDataset\n",
      "File \u001b[0;32m~/anaconda3/lib/python3.11/site-packages/sentence_transformers/datasets/DenoisingAutoEncoderDataset.py:5\u001b[0m\n\u001b[1;32m      3\u001b[0m \u001b[38;5;28;01mfrom\u001b[39;00m \u001b[38;5;21;01m.\u001b[39;00m\u001b[38;5;21;01m.\u001b[39;00m\u001b[38;5;21;01mreaders\u001b[39;00m\u001b[38;5;21;01m.\u001b[39;00m\u001b[38;5;21;01mInputExample\u001b[39;00m \u001b[38;5;28;01mimport\u001b[39;00m InputExample\n\u001b[1;32m      4\u001b[0m \u001b[38;5;28;01mimport\u001b[39;00m \u001b[38;5;21;01mnumpy\u001b[39;00m \u001b[38;5;28;01mas\u001b[39;00m \u001b[38;5;21;01mnp\u001b[39;00m\n\u001b[0;32m----> 5\u001b[0m \u001b[38;5;28;01mfrom\u001b[39;00m \u001b[38;5;21;01mtransformers\u001b[39;00m\u001b[38;5;21;01m.\u001b[39;00m\u001b[38;5;21;01mutils\u001b[39;00m\u001b[38;5;21;01m.\u001b[39;00m\u001b[38;5;21;01mimport_utils\u001b[39;00m \u001b[38;5;28;01mimport\u001b[39;00m is_nltk_available, NLTK_IMPORT_ERROR\n\u001b[1;32m      8\u001b[0m \u001b[38;5;28;01mclass\u001b[39;00m \u001b[38;5;21;01mDenoisingAutoEncoderDataset\u001b[39;00m(Dataset):\n\u001b[1;32m      9\u001b[0m \u001b[38;5;250m    \u001b[39m\u001b[38;5;124;03m\"\"\"\u001b[39;00m\n\u001b[1;32m     10\u001b[0m \u001b[38;5;124;03m    The DenoisingAutoEncoderDataset returns InputExamples in the format: texts=[noise_fn(sentence), sentence]\u001b[39;00m\n\u001b[1;32m     11\u001b[0m \u001b[38;5;124;03m    It is used in combination with the DenoisingAutoEncoderLoss: Here, a decoder tries to re-construct the\u001b[39;00m\n\u001b[0;32m   (...)\u001b[0m\n\u001b[1;32m     15\u001b[0m \u001b[38;5;124;03m    :param noise_fn: A noise function: Given a string, it returns a string with noise, e.g. deleted words\u001b[39;00m\n\u001b[1;32m     16\u001b[0m \u001b[38;5;124;03m    \"\"\"\u001b[39;00m\n",
      "\u001b[0;31mImportError\u001b[0m: cannot import name 'is_nltk_available' from 'transformers.utils.import_utils' (/Users/belgee/anaconda3/lib/python3.11/site-packages/transformers/utils/import_utils.py)"
     ]
    }
   ],
   "source": [
    "from setfit import SetFitModel\n",
    "\n",
    "model = SetFitModel.from_pretrained(\"BAAI/bge-small-en-v1.5\")"
   ]
  },
  {
   "cell_type": "code",
   "execution_count": null,
   "id": "4e67efa1",
   "metadata": {},
   "outputs": [],
   "source": [
    "from datasets import load_dataset\n",
    "\n",
    "dataset = load_dataset(\"SetFit/sst2\")\n",
    "dataset"
   ]
  },
  {
   "cell_type": "code",
   "execution_count": null,
   "id": "7244814c",
   "metadata": {},
   "outputs": [],
   "source": []
  }
 ],
 "metadata": {
  "kernelspec": {
   "display_name": "Python 3 (ipykernel)",
   "language": "python",
   "name": "python3"
  },
  "language_info": {
   "codemirror_mode": {
    "name": "ipython",
    "version": 3
   },
   "file_extension": ".py",
   "mimetype": "text/x-python",
   "name": "python",
   "nbconvert_exporter": "python",
   "pygments_lexer": "ipython3",
   "version": "3.11.5"
  }
 },
 "nbformat": 4,
 "nbformat_minor": 5
}
