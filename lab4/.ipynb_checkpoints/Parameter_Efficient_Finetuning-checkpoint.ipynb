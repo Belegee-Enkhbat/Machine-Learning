{
 "cells": [
  {
   "cell_type": "markdown",
   "id": "54328773",
   "metadata": {},
   "source": [
    "\n",
    "# Parameter-Efficient Finetuning of a Language Model\n",
    "This notebook demonstrates how to perform parameter-efficient finetuning on a dataset of programming problem descriptions using a pre-trained language model.\n"
   ]
  },
  {
   "cell_type": "code",
   "execution_count": null,
   "id": "f873a2df",
   "metadata": {},
   "outputs": [],
   "source": [
    "\n",
    "# Import necessary libraries\n",
    "import pandas as pd\n",
    "from transformers import AutoTokenizer, AutoModelForSequenceClassification, Trainer, TrainingArguments\n",
    "from datasets import Dataset\n",
    "import torch\n"
   ]
  },
  {
   "cell_type": "markdown",
   "id": "12eae677",
   "metadata": {},
   "source": [
    "\n",
    "## Data Loading and Preprocessing\n",
    "We'll start by loading the data and performing basic preprocessing.\n"
   ]
  },
  {
   "cell_type": "code",
   "execution_count": null,
   "id": "971a8ea0",
   "metadata": {},
   "outputs": [],
   "source": [
    "\n",
    "# Load the data\n",
    "data_path = './output.tsv'\n",
    "data = pd.read_csv(data_path, sep='\\t')\n",
    "\n",
    "# Display the first few rows of the dataset\n",
    "data.head()\n"
   ]
  },
  {
   "cell_type": "markdown",
   "id": "62798bce",
   "metadata": {},
   "source": [
    "\n",
    "## Model Selection\n",
    "Load a pre-trained language model that we will finetune.\n"
   ]
  },
  {
   "cell_type": "code",
   "execution_count": null,
   "id": "a7c5c490",
   "metadata": {},
   "outputs": [],
   "source": [
    "\n",
    "# Load the pre-trained model and tokenizer\n",
    "model_name = 'bert-base-uncased'\n",
    "tokenizer = AutoTokenizer.from_pretrained(model_name)\n",
    "model = AutoModelForSequenceClassification.from_pretrained(model_name, num_labels=1)  # assuming binary classification for simplicity\n"
   ]
  },
  {
   "cell_type": "markdown",
   "id": "63dc4fc6",
   "metadata": {},
   "source": [
    "\n",
    "## Parameter-Efficient Finetuning Setup\n",
    "We will freeze most of the pre-trained model's layers and only finetune a small portion to save resources and time.\n"
   ]
  },
  {
   "cell_type": "code",
   "execution_count": null,
   "id": "f59f4a33",
   "metadata": {},
   "outputs": [],
   "source": [
    "\n",
    "# Freeze all layers except the classification head\n",
    "for param in model.base_model.parameters():\n",
    "    param.requires_grad = False\n"
   ]
  },
  {
   "cell_type": "markdown",
   "id": "69ca918d",
   "metadata": {},
   "source": [
    "\n",
    "## Training\n",
    "Set up the training parameters and start training.\n"
   ]
  },
  {
   "cell_type": "code",
   "execution_count": null,
   "id": "1a2a8bc0",
   "metadata": {},
   "outputs": [],
   "source": [
    "\n",
    "# Define training arguments\n",
    "training_args = TrainingArguments(\n",
    "    output_dir='./results',          # output directory\n",
    "    num_train_epochs=3,              # number of training epochs\n",
    "    per_device_train_batch_size=8,   # batch size for training\n",
    "    per_device_eval_batch_size=16,   # batch size for evaluation\n",
    "    warmup_steps=500,                # number of warmup steps for learning rate scheduler\n",
    "    weight_decay=0.01,               # strength of weight decay\n",
    "    logging_dir='./logs',            # directory for storing logs\n",
    "    logging_steps=10,\n",
    ")\n",
    "\n",
    "# Convert DataFrame to Hugging Face dataset\n",
    "dataset = Dataset.from_pandas(data)\n",
    "\n",
    "# Create a trainer\n",
    "trainer = Trainer(\n",
    "    model=model,\n",
    "    args=training_args,\n",
    "    train_dataset=dataset,\n",
    "    eval_dataset=dataset  # for demonstration, using the same dataset as eval\n",
    ")\n",
    "\n",
    "# Train the model\n",
    "trainer.train()\n"
   ]
  },
  {
   "cell_type": "markdown",
   "id": "b55687c6",
   "metadata": {},
   "source": [
    "\n",
    "## Evaluation\n",
    "Evaluate the model performance.\n"
   ]
  },
  {
   "cell_type": "code",
   "execution_count": null,
   "id": "8717e429",
   "metadata": {},
   "outputs": [],
   "source": [
    "\n",
    "# Evaluate the model\n",
    "trainer.evaluate()\n"
   ]
  }
 ],
 "metadata": {
  "kernelspec": {
   "display_name": "Python 3 (ipykernel)",
   "language": "python",
   "name": "python3"
  },
  "language_info": {
   "codemirror_mode": {
    "name": "ipython",
    "version": 3
   },
   "file_extension": ".py",
   "mimetype": "text/x-python",
   "name": "python",
   "nbconvert_exporter": "python",
   "pygments_lexer": "ipython3",
   "version": "3.11.5"
  }
 },
 "nbformat": 4,
 "nbformat_minor": 5
}
