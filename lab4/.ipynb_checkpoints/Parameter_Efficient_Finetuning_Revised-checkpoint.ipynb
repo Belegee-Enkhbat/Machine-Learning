{
 "cells": [
  {
   "cell_type": "markdown",
   "id": "7afcef2a",
   "metadata": {},
   "source": [
    "\n",
    "# Parameter-Efficient Finetuning of a Language Model\n",
    "This notebook demonstrates how to perform parameter-efficient finetuning on a dataset of programming problem descriptions using specified libraries and without `AutoTokenizer`.\n"
   ]
  },
  {
   "cell_type": "code",
   "execution_count": 1,
   "id": "fd1a33b0",
   "metadata": {},
   "outputs": [
    {
     "name": "stdout",
     "output_type": "stream",
     "text": [
      "zsh:1: no matches found: transformers[torch]\n",
      "Requirement already satisfied: datasets in /Users/belgee/anaconda3/lib/python3.11/site-packages (2.19.0)\n",
      "Requirement already satisfied: filelock in /Users/belgee/anaconda3/lib/python3.11/site-packages (from datasets) (3.9.0)\n",
      "Requirement already satisfied: numpy>=1.17 in /Users/belgee/anaconda3/lib/python3.11/site-packages (from datasets) (1.24.3)\n",
      "Requirement already satisfied: pyarrow>=12.0.0 in /Users/belgee/anaconda3/lib/python3.11/site-packages (from datasets) (16.0.0)\n",
      "Requirement already satisfied: pyarrow-hotfix in /Users/belgee/anaconda3/lib/python3.11/site-packages (from datasets) (0.6)\n",
      "Requirement already satisfied: dill<0.3.9,>=0.3.0 in /Users/belgee/anaconda3/lib/python3.11/site-packages (from datasets) (0.3.6)\n",
      "Requirement already satisfied: pandas in /Users/belgee/anaconda3/lib/python3.11/site-packages (from datasets) (2.0.3)\n",
      "Requirement already satisfied: requests>=2.19.0 in /Users/belgee/anaconda3/lib/python3.11/site-packages (from datasets) (2.31.0)\n",
      "Requirement already satisfied: tqdm>=4.62.1 in /Users/belgee/anaconda3/lib/python3.11/site-packages (from datasets) (4.65.0)\n",
      "Requirement already satisfied: xxhash in /Users/belgee/anaconda3/lib/python3.11/site-packages (from datasets) (2.0.2)\n",
      "Requirement already satisfied: multiprocess in /Users/belgee/anaconda3/lib/python3.11/site-packages (from datasets) (0.70.14)\n",
      "Requirement already satisfied: fsspec<=2024.3.1,>=2023.1.0 in /Users/belgee/anaconda3/lib/python3.11/site-packages (from fsspec[http]<=2024.3.1,>=2023.1.0->datasets) (2024.3.1)\n",
      "Requirement already satisfied: aiohttp in /Users/belgee/anaconda3/lib/python3.11/site-packages (from datasets) (3.8.5)\n",
      "Requirement already satisfied: huggingface-hub>=0.21.2 in /Users/belgee/anaconda3/lib/python3.11/site-packages (from datasets) (0.22.2)\n",
      "Requirement already satisfied: packaging in /Users/belgee/anaconda3/lib/python3.11/site-packages (from datasets) (23.1)\n",
      "Requirement already satisfied: pyyaml>=5.1 in /Users/belgee/anaconda3/lib/python3.11/site-packages (from datasets) (6.0)\n",
      "Requirement already satisfied: attrs>=17.3.0 in /Users/belgee/anaconda3/lib/python3.11/site-packages (from aiohttp->datasets) (22.1.0)\n",
      "Requirement already satisfied: charset-normalizer<4.0,>=2.0 in /Users/belgee/anaconda3/lib/python3.11/site-packages (from aiohttp->datasets) (2.0.4)\n",
      "Requirement already satisfied: multidict<7.0,>=4.5 in /Users/belgee/anaconda3/lib/python3.11/site-packages (from aiohttp->datasets) (6.0.2)\n",
      "Requirement already satisfied: async-timeout<5.0,>=4.0.0a3 in /Users/belgee/anaconda3/lib/python3.11/site-packages (from aiohttp->datasets) (4.0.2)\n",
      "Requirement already satisfied: yarl<2.0,>=1.0 in /Users/belgee/anaconda3/lib/python3.11/site-packages (from aiohttp->datasets) (1.8.1)\n",
      "Requirement already satisfied: frozenlist>=1.1.1 in /Users/belgee/anaconda3/lib/python3.11/site-packages (from aiohttp->datasets) (1.3.3)\n",
      "Requirement already satisfied: aiosignal>=1.1.2 in /Users/belgee/anaconda3/lib/python3.11/site-packages (from aiohttp->datasets) (1.2.0)\n",
      "Requirement already satisfied: typing-extensions>=3.7.4.3 in /Users/belgee/anaconda3/lib/python3.11/site-packages (from huggingface-hub>=0.21.2->datasets) (4.9.0)\n",
      "Requirement already satisfied: idna<4,>=2.5 in /Users/belgee/anaconda3/lib/python3.11/site-packages (from requests>=2.19.0->datasets) (2.8)\n",
      "Requirement already satisfied: urllib3<3,>=1.21.1 in /Users/belgee/anaconda3/lib/python3.11/site-packages (from requests>=2.19.0->datasets) (2.2.1)\n",
      "Requirement already satisfied: certifi>=2017.4.17 in /Users/belgee/anaconda3/lib/python3.11/site-packages (from requests>=2.19.0->datasets) (2024.2.2)\n",
      "Requirement already satisfied: python-dateutil>=2.8.2 in /Users/belgee/anaconda3/lib/python3.11/site-packages (from pandas->datasets) (2.8.2)\n",
      "Requirement already satisfied: pytz>=2020.1 in /Users/belgee/anaconda3/lib/python3.11/site-packages (from pandas->datasets) (2023.3.post1)\n",
      "Requirement already satisfied: tzdata>=2022.1 in /Users/belgee/anaconda3/lib/python3.11/site-packages (from pandas->datasets) (2023.3)\n",
      "Requirement already satisfied: six>=1.5 in /Users/belgee/anaconda3/lib/python3.11/site-packages (from python-dateutil>=2.8.2->pandas->datasets) (1.16.0)\n",
      "Requirement already satisfied: seqeval in /Users/belgee/anaconda3/lib/python3.11/site-packages (1.2.2)\n",
      "Requirement already satisfied: numpy>=1.14.0 in /Users/belgee/anaconda3/lib/python3.11/site-packages (from seqeval) (1.24.3)\n",
      "Requirement already satisfied: scikit-learn>=0.21.3 in /Users/belgee/anaconda3/lib/python3.11/site-packages (from seqeval) (1.3.0)\n",
      "Requirement already satisfied: scipy>=1.5.0 in /Users/belgee/anaconda3/lib/python3.11/site-packages (from scikit-learn>=0.21.3->seqeval) (1.11.1)\n",
      "Requirement already satisfied: joblib>=1.1.1 in /Users/belgee/anaconda3/lib/python3.11/site-packages (from scikit-learn>=0.21.3->seqeval) (1.2.0)\n",
      "Requirement already satisfied: threadpoolctl>=2.0.0 in /Users/belgee/anaconda3/lib/python3.11/site-packages (from scikit-learn>=0.21.3->seqeval) (2.2.0)\n"
     ]
    }
   ],
   "source": [
    "\n",
    "# Install necessary libraries\n",
    "!pip install transformers[torch]\n",
    "!pip install datasets\n",
    "!pip install seqeval\n"
   ]
  },
  {
   "cell_type": "code",
   "execution_count": null,
   "id": "337d6374",
   "metadata": {},
   "outputs": [],
   "source": [
    "\n",
    "# Import necessary libraries\n",
    "import pandas as pd\n",
    "import torch\n",
    "from transformers import BertTokenizer, BertForSequenceClassification, Trainer, TrainingArguments\n",
    "from datasets import Dataset\n"
   ]
  },
  {
   "cell_type": "markdown",
   "id": "9c8915e8",
   "metadata": {},
   "source": [
    "\n",
    "## Data Loading and Preprocessing\n",
    "We'll start by loading the data and preparing it for model input.\n"
   ]
  },
  {
   "cell_type": "code",
   "execution_count": null,
   "id": "15574b49",
   "metadata": {},
   "outputs": [],
   "source": [
    "\n",
    "# Load the data\n",
    "data_path = '/mnt/data/output.tsv'\n",
    "data = pd.read_csv(data_path, sep='\\t')\n",
    "\n",
    "# Display the first few rows of the dataset\n",
    "data.head()\n"
   ]
  },
  {
   "cell_type": "markdown",
   "id": "d424cd89",
   "metadata": {},
   "source": [
    "\n",
    "## Tokenization\n",
    "Set up a tokenizer using `transformers` library.\n"
   ]
  },
  {
   "cell_type": "code",
   "execution_count": null,
   "id": "48841eff",
   "metadata": {},
   "outputs": [],
   "source": [
    "\n",
    "# Initialize the tokenizer\n",
    "tokenizer = BertTokenizer.from_pretrained('bert-base-uncased')\n",
    "\n",
    "# Tokenization function\n",
    "def tokenize_function(examples):\n",
    "    return tokenizer(examples['Text'], padding=\"max_length\", truncation=True)\n",
    "\n",
    "# Apply tokenization\n",
    "dataset = Dataset.from_pandas(data)\n",
    "dataset = dataset.map(tokenize_function, batched=True)\n"
   ]
  },
  {
   "cell_type": "markdown",
   "id": "32cfc0e2",
   "metadata": {},
   "source": [
    "\n",
    "## Model Selection and Finetuning Setup\n",
    "Load a pre-trained model and set up for finetuning.\n"
   ]
  },
  {
   "cell_type": "code",
   "execution_count": null,
   "id": "bfb10b2f",
   "metadata": {},
   "outputs": [],
   "source": [
    "\n",
    "# Load the pre-trained model\n",
    "model = BertForSequenceClassification.from_pretrained('bert-base-uncased', num_labels=1)\n",
    "\n",
    "# Freeze all layers except the classification head\n",
    "for param in model.bert.parameters():\n",
    "    param.requires_grad = False\n"
   ]
  },
  {
   "cell_type": "markdown",
   "id": "e037e367",
   "metadata": {},
   "source": [
    "\n",
    "## Training\n",
    "Set up the training parameters and start training.\n"
   ]
  },
  {
   "cell_type": "code",
   "execution_count": null,
   "id": "12356ccc",
   "metadata": {},
   "outputs": [],
   "source": [
    "\n",
    "# Define training arguments\n",
    "training_args = TrainingArguments(\n",
    "    output_dir='./results',          # output directory\n",
    "    num_train_epochs=3,              # number of training epochs\n",
    "    per_device_train_batch_size=8,   # batch size for training\n",
    "    per_device_eval_batch_size=16,   # batch size for evaluation\n",
    "    warmup_steps=500,                # number of warmup steps for learning rate scheduler\n",
    "    weight_decay=0.01,               # strength of weight decay\n",
    "    logging_dir='./logs',            # directory for storing logs\n",
    "    logging_steps=10,\n",
    ")\n",
    "\n",
    "# Create a trainer\n",
    "trainer = Trainer(\n",
    "    model=model,\n",
    "    args=training_args,\n",
    "    train_dataset=dataset,\n",
    "    eval_dataset=dataset  # for demonstration, using the same dataset as eval\n",
    ")\n",
    "\n",
    "# Train the model\n",
    "trainer.train()\n"
   ]
  },
  {
   "cell_type": "markdown",
   "id": "169b2907",
   "metadata": {},
   "source": [
    "\n",
    "## Evaluation\n",
    "Evaluate the model performance.\n"
   ]
  },
  {
   "cell_type": "code",
   "execution_count": null,
   "id": "3ab14465",
   "metadata": {},
   "outputs": [],
   "source": [
    "\n",
    "# Evaluate the model\n",
    "trainer.evaluate()\n"
   ]
  }
 ],
 "metadata": {
  "kernelspec": {
   "display_name": "Python 3 (ipykernel)",
   "language": "python",
   "name": "python3"
  },
  "language_info": {
   "codemirror_mode": {
    "name": "ipython",
    "version": 3
   },
   "file_extension": ".py",
   "mimetype": "text/x-python",
   "name": "python",
   "nbconvert_exporter": "python",
   "pygments_lexer": "ipython3",
   "version": "3.11.5"
  }
 },
 "nbformat": 4,
 "nbformat_minor": 5
}
