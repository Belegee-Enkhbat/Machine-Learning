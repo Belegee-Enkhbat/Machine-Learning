{
 "cells": [
  {
   "cell_type": "code",
   "execution_count": 2,
   "id": "b5f9ac94",
   "metadata": {},
   "outputs": [
    {
     "name": "stdout",
     "output_type": "stream",
     "text": [
      "{'The': 1, 'cat': 2, 'sat': 1, 'on': 1, 'the': 2, 'mat': 1, 'and': 1, 'dog': 1, 'barked': 1, 'at': 1}\n"
     ]
    }
   ],
   "source": [
    "\n",
    "new_thing = {}\n",
    "\n",
    "def redefinedSet(word, left, right): \n",
    "    if len(new_thing) < 1:\n",
    "        new_thing[word] = 1\n",
    "        return\n",
    "\n",
    "    mid = (left + right) // 2\n",
    "    if left > right:\n",
    "        new_thing[word] = 1    \n",
    "    elif word == list(new_thing.keys())[mid]:\n",
    "        new_thing[word] += 1\n",
    "    elif word > list(new_thing.keys())[mid]:\n",
    "        return redefinedSet(word, mid + 1, right)\n",
    "    elif word < list(new_thing.keys())[mid]:\n",
    "        return redefinedSet(word, left, mid - 1)\n",
    "    \n",
    "sentence = \"The cat sat on the mat and the dog barked at the cat dog\"\n",
    "words = sentence.split()\n",
    "for word in words:\n",
    "    if len(new_thing) == 0:\n",
    "        new_thing[word] = 1\n",
    "    else:\n",
    "        redefinedSet(word, 0, len(list(new_thing.keys())) - 1)\n",
    "\n",
    "print(new_thing)\n",
    "\n",
    "# 2тын хайлт ашигласан ба хугацаа O(NlogN) гэхлээ efficient ажиллахгүй байгаа"
   ]
  },
  {
   "cell_type": "code",
   "execution_count": 1,
   "id": "f105140f",
   "metadata": {},
   "outputs": [
    {
     "name": "stdout",
     "output_type": "stream",
     "text": [
      "The 1\n",
      "and 1\n",
      "at 1\n",
      "barked 1\n",
      "cat 2\n",
      "dog 2\n",
      "mat 1\n",
      "on 1\n",
      "sat 1\n",
      "the 3\n"
     ]
    }
   ],
   "source": [
    "sentence = \"The cat sat on the mat and the dog barked at the cat dog\"\n",
    "words = sentence.split()\n",
    " words.sort()  # O(NlogN)-ээр sort ашигласан\n",
    "word_counts = {}\n",
    "current_word = None\n",
    "for word in words: И\n",
    "    if word != current_word:\n",
    "        word_counts[word] = 1\n",
    "        current_word = word\n",
    "    else:\n",
    "        word_counts[word] += 1\n",
    "\n",
    "for word, count in word_counts.items():\n",
    "    print(word,  count)\n",
    "\n",
    "# Хугацаа O(NlogN+N)"
   ]
  },
  {
   "cell_type": "code",
   "execution_count": null,
   "id": "c17c7e96",
   "metadata": {},
   "outputs": [],
   "source": []
  },
  {
   "cell_type": "code",
   "execution_count": null,
   "id": "97bf3800",
   "metadata": {},
   "outputs": [],
   "source": []
  },
  {
   "cell_type": "code",
   "execution_count": null,
   "id": "581c8645",
   "metadata": {},
   "outputs": [],
   "source": []
  },
  {
   "cell_type": "code",
   "execution_count": null,
   "id": "364172c7",
   "metadata": {},
   "outputs": [],
   "source": []
  },
  {
   "cell_type": "code",
   "execution_count": null,
   "id": "451ecdfe",
   "metadata": {},
   "outputs": [],
   "source": []
  }
 ],
 "metadata": {
  "kernelspec": {
   "display_name": "Python 3 (ipykernel)",
   "language": "python",
   "name": "python3"
  },
  "language_info": {
   "codemirror_mode": {
    "name": "ipython",
    "version": 3
   },
   "file_extension": ".py",
   "mimetype": "text/x-python",
   "name": "python",
   "nbconvert_exporter": "python",
   "pygments_lexer": "ipython3",
   "version": "3.11.5"
  }
 },
 "nbformat": 4,
 "nbformat_minor": 5
}
