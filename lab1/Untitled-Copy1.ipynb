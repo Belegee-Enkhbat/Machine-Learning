{
 "cells": [
  {
   "cell_type": "code",
   "execution_count": 1,
   "id": "b5f9ac94",
   "metadata": {},
   "outputs": [
    {
     "name": "stdout",
     "output_type": "stream",
     "text": [
      "10\n"
     ]
    }
   ],
   "source": [
    "# # 1. Өгөгдсөн хүснэгтээс нийт ялгаатай утгатай элемэнтүүдийн тоог ол.\n",
    "# def removeDuplicateLetters(s):\n",
    "        \n",
    "# \t\tlast_occ = {}\n",
    "# \t\tstack = []\n",
    "# \t\tvisited = set()\n",
    "\n",
    "# \t\tfor i in range(len(s)):\n",
    "# \t\t\tlast_occ[s[i]] = i\t\t\n",
    "# \t\tfor i in range(len(s)):\n",
    "# \t\t\tif s[i] not in visited:\n",
    "# \t\t\t\twhile (stack and stack[-1] > s[i] and last_occ[stack[-1]] > i):\n",
    "# \t\t\t\t\tvisited.remove(stack.pop())\n",
    "# \t\t\t\tstack.append(s[i])\n",
    "# \t\t\t\tvisited.add(s[i])\n",
    "# \t\treturn ''.join(stack)\n",
    "\n",
    "# print(len(removeDuplicateLetters(\"abcdamsanfjkksadjsa\")))\n"
   ]
  },
  {
   "cell_type": "code",
   "execution_count": 1,
   "id": "07318adb",
   "metadata": {},
   "outputs": [
    {
     "name": "stdout",
     "output_type": "stream",
     "text": [
      "{'The': 1, 'cat': 2, 'sat': 1, 'on': 1, 'the': 2, 'mat': 1, 'and': 1, 'dog': 1, 'barked': 1, 'at': 1}\n"
     ]
    }
   ],
   "source": [
    "\n",
    "new_thing = {}\n",
    "\n",
    "def redefinedSet(word, left, right): \n",
    "    if len(new_thing) < 1:\n",
    "        new_thing[word] = 1\n",
    "        return\n",
    "\n",
    "    mid = (left + right) // 2\n",
    "    if left > right:\n",
    "        new_thing[word] = 1    \n",
    "    elif word == list(new_thing.keys())[mid]:\n",
    "        new_thing[word] += 1\n",
    "    elif word > list(new_thing.keys())[mid]:\n",
    "        return redefinedSet(word, mid + 1, right)\n",
    "    elif word < list(new_thing.keys())[mid]:\n",
    "        return redefinedSet(word, left, mid - 1)\n",
    "    \n",
    "sentence = \"The cat sat on the mat and the dog barked at the cat dog\"\n",
    "words = sentence.split()\n",
    "for word in words:\n",
    "    if len(new_thing) == 0:\n",
    "        new_thing[word] = 1\n",
    "    else:\n",
    "        redefinedSet(word, 0, len(list(new_thing.keys())) - 1)\n",
    "\n",
    "print(new_thing)\n"
   ]
  },
  {
   "cell_type": "code",
   "execution_count": null,
   "id": "ee2c9286",
   "metadata": {},
   "outputs": [],
   "source": []
  },
  {
   "cell_type": "code",
   "execution_count": 1,
   "id": "77e05b92",
   "metadata": {},
   "outputs": [
    {
     "name": "stdout",
     "output_type": "stream",
     "text": [
      "10\n"
     ]
    }
   ],
   "source": [
    "def removeDuplicateLetters(s):\n",
    "    word_counts=set(s)\n",
    "    return word_counts\n",
    "print(len(removeDuplicateLetters(\"abcdamsanfjkksadjsa\")))\n"
   ]
  },
  {
   "cell_type": "code",
   "execution_count": 2,
   "id": "f105140f",
   "metadata": {},
   "outputs": [
    {
     "name": "stdout",
     "output_type": "stream",
     "text": [
      "The cat sat on the mat and the dog barked at the cat\n",
      "Counted: {'sat': 1, 'on': 1, 'dog': 1, 'and': 1, 'cat': 2, 'mat': 1, 'The': 1, 'barked': 1, 'at': 1, 'the': 3}\n"
     ]
    }
   ],
   "source": [
    "# 2. Өгөгдсөн өгүүлбэрийн үг бүр нь хэдэн удаа давтагдсанг ол.\n",
    "sentence = \"The cat sat on the mat and the dog barked at the cat\"\n",
    "words = sentence.split()\n",
    "unique_words = set(words)\n",
    "word_counts = {}\n",
    "for word in unique_words:\n",
    "    count = words.count(word)\n",
    "    word_counts[word] = count\n",
    "print(sentence)\n",
    "print(\"Counted:\", word_counts)\n",
    "\n"
   ]
  },
  {
   "cell_type": "code",
   "execution_count": 3,
   "id": "c17c7e96",
   "metadata": {},
   "outputs": [
    {
     "name": "stdout",
     "output_type": "stream",
     "text": [
      "sjkaxyz\n",
      "xyz\n"
     ]
    }
   ],
   "source": [
    "\n",
    "# 3. Өгөгдсөн хүснэгтээс 'xyz' тэмдэгт мөрийг агуулсан тэмдэгт мөрүүдийг хэвлэ.\n",
    "data = 'hello sjkaxyz bataa xyz'\n",
    "words = data.split()\n",
    "for word in words:\n",
    "    if 'xyz' in word:\n",
    "        print(word)\n",
    "\n"
   ]
  },
  {
   "cell_type": "code",
   "execution_count": 4,
   "id": "97bf3800",
   "metadata": {},
   "outputs": [
    {
     "name": "stdout",
     "output_type": "stream",
     "text": [
      "sjkaxyz\n",
      "xyz\n",
      "xyzbataa\n"
     ]
    }
   ],
   "source": [
    "# 4. Өгөгдсөн хүснэгтээс 'xyz' тэмдэгт мөрөөр эхэлсэн эсвэл төгссөн тэмдэгт мөрүүдийг хэвлэ.\n",
    "\n",
    "data = 'hello sjkaxyz bataa xyz xyzbataa bxyza'\n",
    "words = data.split()\n",
    "for word in words:\n",
    "    if word.startswith('xyz') or word.endswith('xyz'):\n",
    "        print(word)\n",
    "\n"
   ]
  },
  {
   "cell_type": "code",
   "execution_count": 6,
   "id": "581c8645",
   "metadata": {},
   "outputs": [
    {
     "name": "stdout",
     "output_type": "stream",
     "text": [
      "[2, 3, 4, 5, 7, 11, 13, 17, 19, 23, 29, 31, 37, 41, 43, 47, 53, 59, 61, 67, 71, 73, 79, 83, 89, 97, 101, 103, 107, 109, 113, 127, 131, 137, 139, 149, 151, 157, 163, 167, 173, 179, 181, 191, 193, 197, 199, 211, 223, 227]\n"
     ]
    }
   ],
   "source": [
    "# 5. Хамгийн эхний анхны 50 тоог олох функц бич.\n",
    "def is_prime(n):\n",
    "    if n < 2:\n",
    "        return False\n",
    "    for i in range(2, int((n+1)/2)):\n",
    "        if n % i == 0:\n",
    "            return False\n",
    "    return True\n",
    "\n",
    "def get_primes(n):\n",
    "    primes = []\n",
    "    i = 2\n",
    "    while len(primes) < n:\n",
    "        if is_prime(i):\n",
    "            primes.append(i)\n",
    "        i += 1\n",
    "    return primes\n",
    "\n",
    "print(get_primes(50))"
   ]
  },
  {
   "cell_type": "code",
   "execution_count": null,
   "id": "364172c7",
   "metadata": {},
   "outputs": [],
   "source": [
    "\n",
    "new_thing = {}\n",
    "\n",
    "def redefinedSet(word, left, right): \n",
    "    if len(new_thing) < 1:\n",
    "        new_thing[word] = 1\n",
    "        return\n",
    "\n",
    "    mid = (left + right) // 2\n",
    "    if left > right:\n",
    "        new_thing[word] = 1    \n",
    "    elif word == list(new_thing.keys())[mid]:\n",
    "        new_thing[word] += 1\n",
    "    elif word > list(new_thing.keys())[mid]:\n",
    "        return redefinedSet(word, mid + 1, right)\n",
    "    elif word < list(new_thing.keys())[mid]:\n",
    "        return redefinedSet(word, left, mid - 1)\n",
    "    \n",
    "sentence = \"The cat sat on the mat and the dog barked at the cat dog\"\n",
    "words = sentence.split()\n",
    "for word in words:\n",
    "    if len(new_thing) == 0:\n",
    "        new_thing[word] = 1\n",
    "    else:\n",
    "        redefinedSet(word, 0, len(list(new_thing.keys())) - 1)\n",
    "\n",
    "print(new_thing)\n"
   ]
  }
 ],
 "metadata": {
  "kernelspec": {
   "display_name": "Python 3 (ipykernel)",
   "language": "python",
   "name": "python3"
  },
  "language_info": {
   "codemirror_mode": {
    "name": "ipython",
    "version": 3
   },
   "file_extension": ".py",
   "mimetype": "text/x-python",
   "name": "python",
   "nbconvert_exporter": "python",
   "pygments_lexer": "ipython3",
   "version": "3.11.5"
  }
 },
 "nbformat": 4,
 "nbformat_minor": 5
}
