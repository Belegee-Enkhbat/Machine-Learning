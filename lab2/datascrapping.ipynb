{
 "cells": [
  {
   "cell_type": "code",
   "execution_count": 1,
   "metadata": {
    "id": "uTZ-Lwiymu_j"
   },
   "outputs": [],
   "source": [
    "import requests\n",
    "import urllib.request\n",
    "from bs4 import BeautifulSoup"
   ]
  },
  {
   "cell_type": "code",
   "execution_count": 2,
   "metadata": {
    "colab": {
     "base_uri": "https://localhost:8080/"
    },
    "id": "ibT3enfAnQ0X",
    "outputId": "60acf20c-59f0-410d-8828-abec0f93b911"
   },
   "outputs": [
    {
     "name": "stdout",
     "output_type": "stream",
     "text": [
      "1\n",
      "2\n",
      "3\n",
      "4\n",
      "5\n",
      "6\n",
      "7\n",
      "8\n",
      "9\n",
      "10\n",
      "11\n",
      "12\n",
      "13\n",
      "14\n",
      "15\n",
      "16\n",
      "17\n",
      "18\n",
      "19\n",
      "20\n",
      "21\n",
      "22\n",
      "23\n",
      "24\n",
      "25\n",
      "26\n",
      "27\n",
      "28\n",
      "29\n",
      "30\n",
      "31\n",
      "32\n",
      "33\n",
      "34\n",
      "35\n",
      "36\n",
      "37\n",
      "38\n",
      "39\n",
      "40\n",
      "41\n",
      "42\n",
      "43\n",
      "44\n",
      "45\n",
      "46\n",
      "47\n",
      "48\n",
      "49\n",
      "50\n",
      "51\n",
      "52\n",
      "53\n",
      "54\n",
      "55\n",
      "56\n",
      "57\n",
      "58\n"
     ]
    }
   ],
   "source": [
    "baseurl = 'https://weather.com/mn-MN/weather/today/l/MGXX0003:1:MG?Goto=Redirected'\n",
    "app_list = []\n",
    "for i in range(1,59): \n",
    "  url = baseurl + str(i)\n",
    "  #print(url)\n",
    "  #print(url)\n",
    "  response = requests.get(url)\n",
    "  if response.status_code != 200:\n",
    "   print(response.status_code)\n",
    "   print('error ',url)\n",
    "   continue\n",
    "  print(i)\n",
    "  soup = BeautifulSoup(response.text,\"html.parser\")\n",
    "  li_list = soup.find_all(\"li\", {\"class\": \"announcement-container\"})\n",
    "  for li in li_list:\n",
    "    a = li.find('a')\n",
    "    appartment_url = 'https://www.unegui.mn'+a['href']\n",
    "    #print(appartment_url)\n",
    "    app_list.append(appartment_url)"
   ]
  },
  {
   "cell_type": "code",
   "execution_count": 3,
   "metadata": {
    "colab": {
     "base_uri": "https://localhost:8080/"
    },
    "id": "gpQbQmlNa-9z",
    "outputId": "063bc4da-35fb-4fc8-97be-8451d662bd9d"
   },
   "outputs": [
    {
     "name": "stdout",
     "output_type": "stream",
     "text": [
      "0\n",
      "0\n"
     ]
    }
   ],
   "source": [
    "print(len(app_list))\n",
    "app_set = set(app_list)\n",
    "print(len(app_set))"
   ]
  },
  {
   "cell_type": "code",
   "execution_count": 4,
   "metadata": {
    "id": "_jw8N4j-a_2M"
   },
   "outputs": [],
   "source": [
    "class Appartment:\n",
    "  def __init__(self, title, location, price, space, url):\n",
    "    self.title = title\n",
    "    self.location = location\n",
    "    self.price = price\n",
    "    self.space = space\n",
    "    self.url = url"
   ]
  },
  {
   "cell_type": "code",
   "execution_count": 5,
   "metadata": {
    "id": "-P_NiQe5bDwM"
   },
   "outputs": [],
   "source": [
    "def findFeature(li_list, header):\n",
    "  ret = 'NA'\n",
    "  for li in li_list:\n",
    "    text = li.text.strip()\n",
    "    if text.startswith(header):\n",
    "      return text[len(header) + 1:]\n",
    "  return ret"
   ]
  },
  {
   "cell_type": "code",
   "execution_count": 6,
   "metadata": {
    "colab": {
     "base_uri": "https://localhost:8080/"
    },
    "id": "tSYqW42obHUI",
    "outputId": "215c8667-9a95-4d74-ad7a-9dda060ba44f"
   },
   "outputs": [
    {
     "name": "stdout",
     "output_type": "stream",
     "text": [
      "[]\n"
     ]
    }
   ],
   "source": [
    "it = 0\n",
    "scrappedData=[]\n",
    "for url in app_set: \n",
    "  #print(url)\n",
    "  it += 1\n",
    " \n",
    "  response = requests.get(url)\n",
    "  if response.status_code != 200:\n",
    "   print(response.status_code)\n",
    "   print('error ',url)\n",
    "   continue\n",
    "  soup = BeautifulSoup(response.text,\"html.parser\")\n",
    "  title = soup.find(\"h1\", {\"class\": \"title-announcement\"}).text.strip()\n",
    "  meta_data_div = soup.find(\"div\", {\"class\": \"announcement-price__cost\"})\n",
    "  meta_price = meta_data_div.find('meta', {'itemprop': 'price'})['content']\n",
    "  li_class = soup.find_all(\"li\")\n",
    "  location = findFeature(li_class,'Байршил:')\n",
    "  space = findFeature(li_class,'Талбай:')\n",
    "  elevation = findFeature(li_class,'Хэдэн давхарт:')\n",
    "  year = findFeature(li_class,'Ашиглалтанд орсон он:')\n",
    "  district = findFeature(li_class,'Дүүрэг:')\n",
    "  leasing = findFeature(li_class,'Лизингээр авах боломж:')\n",
    "  isDone = findFeature(li_class,'Барилгын явц:')\n",
    "\n",
    "  temp = [title,meta_price,location, space,elevation,year,district,leasing,isDone]\n",
    "  scrappedData.append(temp)\n",
    "  if it%31==0:\n",
    "    print(temp)\n",
    "print(scrappedData)"
   ]
  },
  {
   "cell_type": "code",
   "execution_count": 7,
   "metadata": {
    "id": "ibTp6-_aCoLM"
   },
   "outputs": [],
   "source": [
    "import csv\n",
    "\n",
    "# for x in scrappedData:\n",
    "#   if float(x[1])<20000000:\n",
    "#     x[1]=(float(x[1])*float(x[3].split(\" \")[0]))\n",
    "\n",
    "# for idx,x in enumerate(scrappedData):\n",
    "#     print(x)\n",
    "with open('output.tsv', 'w', newline='') as f_output:\n",
    "    tsv_output = csv.writer(f_output, delimiter='\\t')\n",
    "    for x in scrappedData:\n",
    "      tsv_output.writerow(x)"
   ]
  },
  {
   "cell_type": "code",
   "execution_count": null,
   "metadata": {},
   "outputs": [],
   "source": []
  },
  {
   "cell_type": "code",
   "execution_count": null,
   "metadata": {},
   "outputs": [],
   "source": []
  }
 ],
 "metadata": {
  "colab": {
   "provenance": []
  },
  "kernelspec": {
   "display_name": "Python 3 (ipykernel)",
   "language": "python",
   "name": "python3"
  },
  "language_info": {
   "codemirror_mode": {
    "name": "ipython",
    "version": 3
   },
   "file_extension": ".py",
   "mimetype": "text/x-python",
   "name": "python",
   "nbconvert_exporter": "python",
   "pygments_lexer": "ipython3",
   "version": "3.11.5"
  }
 },
 "nbformat": 4,
 "nbformat_minor": 1
}
